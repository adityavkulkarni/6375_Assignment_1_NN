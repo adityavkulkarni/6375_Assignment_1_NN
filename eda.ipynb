{
 "cells": [
  {
   "cell_type": "code",
   "execution_count": 7,
   "id": "initial_id",
   "metadata": {
    "collapsed": true,
    "ExecuteTime": {
     "end_time": "2024-03-11T16:36:16.214219Z",
     "start_time": "2024-03-11T16:36:15.970417Z"
    }
   },
   "outputs": [],
   "source": [
    "import pandas as pd"
   ]
  },
  {
   "cell_type": "code",
   "outputs": [],
   "source": [
    "df = pd.read_csv(\"data/Churn_Modelling.csv\")\n",
    "    "
   ],
   "metadata": {
    "collapsed": false,
    "ExecuteTime": {
     "end_time": "2024-03-12T00:29:19.234940Z",
     "start_time": "2024-03-12T00:29:19.197634Z"
    }
   },
   "id": "74dfac708ac0e4a4",
   "execution_count": 33
  },
  {
   "cell_type": "code",
   "outputs": [
    {
     "data": {
      "text/plain": "   RowNumber  CustomerId   Surname  CreditScore Geography  Gender  Age  \\\n0          1    15634602  Hargrave          619    France  Female   42   \n1          2    15647311      Hill          608     Spain  Female   41   \n2          3    15619304      Onio          502    France  Female   42   \n3          4    15701354      Boni          699    France  Female   39   \n4          5    15737888  Mitchell          850     Spain  Female   43   \n\n   Tenure    Balance  NumOfProducts  HasCrCard  IsActiveMember  \\\n0       2       0.00              1          1               1   \n1       1   83807.86              1          0               1   \n2       8  159660.80              3          1               0   \n3       1       0.00              2          0               0   \n4       2  125510.82              1          1               1   \n\n   EstimatedSalary  Exited  \n0        101348.88       1  \n1        112542.58       0  \n2        113931.57       1  \n3         93826.63       0  \n4         79084.10       0  ",
      "text/html": "<div>\n<style scoped>\n    .dataframe tbody tr th:only-of-type {\n        vertical-align: middle;\n    }\n\n    .dataframe tbody tr th {\n        vertical-align: top;\n    }\n\n    .dataframe thead th {\n        text-align: right;\n    }\n</style>\n<table border=\"1\" class=\"dataframe\">\n  <thead>\n    <tr style=\"text-align: right;\">\n      <th></th>\n      <th>RowNumber</th>\n      <th>CustomerId</th>\n      <th>Surname</th>\n      <th>CreditScore</th>\n      <th>Geography</th>\n      <th>Gender</th>\n      <th>Age</th>\n      <th>Tenure</th>\n      <th>Balance</th>\n      <th>NumOfProducts</th>\n      <th>HasCrCard</th>\n      <th>IsActiveMember</th>\n      <th>EstimatedSalary</th>\n      <th>Exited</th>\n    </tr>\n  </thead>\n  <tbody>\n    <tr>\n      <th>0</th>\n      <td>1</td>\n      <td>15634602</td>\n      <td>Hargrave</td>\n      <td>619</td>\n      <td>France</td>\n      <td>Female</td>\n      <td>42</td>\n      <td>2</td>\n      <td>0.00</td>\n      <td>1</td>\n      <td>1</td>\n      <td>1</td>\n      <td>101348.88</td>\n      <td>1</td>\n    </tr>\n    <tr>\n      <th>1</th>\n      <td>2</td>\n      <td>15647311</td>\n      <td>Hill</td>\n      <td>608</td>\n      <td>Spain</td>\n      <td>Female</td>\n      <td>41</td>\n      <td>1</td>\n      <td>83807.86</td>\n      <td>1</td>\n      <td>0</td>\n      <td>1</td>\n      <td>112542.58</td>\n      <td>0</td>\n    </tr>\n    <tr>\n      <th>2</th>\n      <td>3</td>\n      <td>15619304</td>\n      <td>Onio</td>\n      <td>502</td>\n      <td>France</td>\n      <td>Female</td>\n      <td>42</td>\n      <td>8</td>\n      <td>159660.80</td>\n      <td>3</td>\n      <td>1</td>\n      <td>0</td>\n      <td>113931.57</td>\n      <td>1</td>\n    </tr>\n    <tr>\n      <th>3</th>\n      <td>4</td>\n      <td>15701354</td>\n      <td>Boni</td>\n      <td>699</td>\n      <td>France</td>\n      <td>Female</td>\n      <td>39</td>\n      <td>1</td>\n      <td>0.00</td>\n      <td>2</td>\n      <td>0</td>\n      <td>0</td>\n      <td>93826.63</td>\n      <td>0</td>\n    </tr>\n    <tr>\n      <th>4</th>\n      <td>5</td>\n      <td>15737888</td>\n      <td>Mitchell</td>\n      <td>850</td>\n      <td>Spain</td>\n      <td>Female</td>\n      <td>43</td>\n      <td>2</td>\n      <td>125510.82</td>\n      <td>1</td>\n      <td>1</td>\n      <td>1</td>\n      <td>79084.10</td>\n      <td>0</td>\n    </tr>\n  </tbody>\n</table>\n</div>"
     },
     "execution_count": 34,
     "metadata": {},
     "output_type": "execute_result"
    }
   ],
   "source": [
    "df.head()"
   ],
   "metadata": {
    "collapsed": false,
    "ExecuteTime": {
     "end_time": "2024-03-12T00:29:19.751043Z",
     "start_time": "2024-03-12T00:29:19.743908Z"
    }
   },
   "id": "6e7084ba1ce32fd4",
   "execution_count": 34
  },
  {
   "cell_type": "code",
   "outputs": [
    {
     "data": {
      "text/plain": "          RowNumber    CustomerId   CreditScore           Age        Tenure  \\\ncount  10100.000000  1.010000e+04  10100.000000  10100.000000  10100.000000   \nmean    5532.728614  1.607645e+07    650.305050     39.032970      5.017525   \nstd     6584.588901  4.646204e+06     97.041153     10.656201      2.897665   \nmin        1.000000  1.064636e+07    350.000000     18.000000      0.000000   \n25%     2525.750000  1.562897e+07    584.000000     32.000000      3.000000   \n50%     5050.500000  1.569189e+07    652.000000     37.000000      5.000000   \n75%     7575.250000  1.575520e+07    718.000000     44.000000      8.000000   \nmax    99490.000000  9.953280e+07    850.000000     92.000000     10.000000   \n\n             Balance  NumOfProducts     HasCrCard  IsActiveMember  \\\ncount   10100.000000   10100.000000  10100.000000    10100.000000   \nmean    76732.722942       1.524851      0.703663        0.515644   \nstd     62430.460372       0.587250      0.456664        0.499780   \nmin         0.000000       0.000000      0.000000        0.000000   \n25%         0.000000       1.000000      0.000000        0.000000   \n50%     97258.330000       1.000000      1.000000        1.000000   \n75%    127760.862500       2.000000      1.000000        1.000000   \nmax    250898.090000       4.000000      1.000000        1.000000   \n\n       EstimatedSalary        Exited  \ncount     10100.000000  10100.000000  \nmean     100154.456277      0.206535  \nstd       57675.008533      0.404839  \nmin          11.580000      0.000000  \n25%       50910.677500      0.000000  \n50%      100168.240000      0.000000  \n75%      149461.830000      0.000000  \nmax      247765.701143      1.000000  ",
      "text/html": "<div>\n<style scoped>\n    .dataframe tbody tr th:only-of-type {\n        vertical-align: middle;\n    }\n\n    .dataframe tbody tr th {\n        vertical-align: top;\n    }\n\n    .dataframe thead th {\n        text-align: right;\n    }\n</style>\n<table border=\"1\" class=\"dataframe\">\n  <thead>\n    <tr style=\"text-align: right;\">\n      <th></th>\n      <th>RowNumber</th>\n      <th>CustomerId</th>\n      <th>CreditScore</th>\n      <th>Age</th>\n      <th>Tenure</th>\n      <th>Balance</th>\n      <th>NumOfProducts</th>\n      <th>HasCrCard</th>\n      <th>IsActiveMember</th>\n      <th>EstimatedSalary</th>\n      <th>Exited</th>\n    </tr>\n  </thead>\n  <tbody>\n    <tr>\n      <th>count</th>\n      <td>10100.000000</td>\n      <td>1.010000e+04</td>\n      <td>10100.000000</td>\n      <td>10100.000000</td>\n      <td>10100.000000</td>\n      <td>10100.000000</td>\n      <td>10100.000000</td>\n      <td>10100.000000</td>\n      <td>10100.000000</td>\n      <td>10100.000000</td>\n      <td>10100.000000</td>\n    </tr>\n    <tr>\n      <th>mean</th>\n      <td>5532.728614</td>\n      <td>1.607645e+07</td>\n      <td>650.305050</td>\n      <td>39.032970</td>\n      <td>5.017525</td>\n      <td>76732.722942</td>\n      <td>1.524851</td>\n      <td>0.703663</td>\n      <td>0.515644</td>\n      <td>100154.456277</td>\n      <td>0.206535</td>\n    </tr>\n    <tr>\n      <th>std</th>\n      <td>6584.588901</td>\n      <td>4.646204e+06</td>\n      <td>97.041153</td>\n      <td>10.656201</td>\n      <td>2.897665</td>\n      <td>62430.460372</td>\n      <td>0.587250</td>\n      <td>0.456664</td>\n      <td>0.499780</td>\n      <td>57675.008533</td>\n      <td>0.404839</td>\n    </tr>\n    <tr>\n      <th>min</th>\n      <td>1.000000</td>\n      <td>1.064636e+07</td>\n      <td>350.000000</td>\n      <td>18.000000</td>\n      <td>0.000000</td>\n      <td>0.000000</td>\n      <td>0.000000</td>\n      <td>0.000000</td>\n      <td>0.000000</td>\n      <td>11.580000</td>\n      <td>0.000000</td>\n    </tr>\n    <tr>\n      <th>25%</th>\n      <td>2525.750000</td>\n      <td>1.562897e+07</td>\n      <td>584.000000</td>\n      <td>32.000000</td>\n      <td>3.000000</td>\n      <td>0.000000</td>\n      <td>1.000000</td>\n      <td>0.000000</td>\n      <td>0.000000</td>\n      <td>50910.677500</td>\n      <td>0.000000</td>\n    </tr>\n    <tr>\n      <th>50%</th>\n      <td>5050.500000</td>\n      <td>1.569189e+07</td>\n      <td>652.000000</td>\n      <td>37.000000</td>\n      <td>5.000000</td>\n      <td>97258.330000</td>\n      <td>1.000000</td>\n      <td>1.000000</td>\n      <td>1.000000</td>\n      <td>100168.240000</td>\n      <td>0.000000</td>\n    </tr>\n    <tr>\n      <th>75%</th>\n      <td>7575.250000</td>\n      <td>1.575520e+07</td>\n      <td>718.000000</td>\n      <td>44.000000</td>\n      <td>8.000000</td>\n      <td>127760.862500</td>\n      <td>2.000000</td>\n      <td>1.000000</td>\n      <td>1.000000</td>\n      <td>149461.830000</td>\n      <td>0.000000</td>\n    </tr>\n    <tr>\n      <th>max</th>\n      <td>99490.000000</td>\n      <td>9.953280e+07</td>\n      <td>850.000000</td>\n      <td>92.000000</td>\n      <td>10.000000</td>\n      <td>250898.090000</td>\n      <td>4.000000</td>\n      <td>1.000000</td>\n      <td>1.000000</td>\n      <td>247765.701143</td>\n      <td>1.000000</td>\n    </tr>\n  </tbody>\n</table>\n</div>"
     },
     "execution_count": 37,
     "metadata": {},
     "output_type": "execute_result"
    }
   ],
   "source": [
    "df.describe()"
   ],
   "metadata": {
    "collapsed": false,
    "ExecuteTime": {
     "end_time": "2024-03-12T00:32:33.368108Z",
     "start_time": "2024-03-12T00:32:33.338339Z"
    }
   },
   "id": "cb327d3f288a4ac5",
   "execution_count": 37
  },
  {
   "cell_type": "code",
   "outputs": [
    {
     "name": "stdout",
     "output_type": "stream",
     "text": [
      "93213,11564,600,wktwart,36,Germany,Male,6,376465,111393.52384445348,5,0,1,1\n",
      "16721,68976,391,kpogfn,48,Germany,Male,5,343497,184791.95169776966,2,1,1,0\n",
      "37965,23673,613,bmq,22,Germany,Female,10,179422,232275.89390911584,2,0,0,0\n",
      "27970,94288,526,fsgiwjg,73,France,Female,3,182668,8705.709479034298,5,1,1,0\n",
      "84430,43247,378,ltfbixkoi,51,Spain,Male,1,197251,45314.42015165121,3,0,0,0\n",
      "22145,75588,598,liiqw,38,Spain,Male,10,22588,126101.99502400943,4,0,0,0\n",
      "16109,73712,483,xjodcstu,51,Germany,Male,3,499102,249967.496016081,5,0,1,0\n",
      "32216,24319,430,lythhkn,32,France,Male,9,247140,42139.842756846745,4,1,1,1\n",
      "35165,82532,835,qpkqni,92,Germany,Female,7,9217,34353.378026085484,4,0,1,0\n",
      "88871,10209,685,rtlfxrkvik,30,Germany,Female,6,264722,147844.1792090683,0,1,1,1\n",
      "25227,51158,379,qrvmsrgjsn,84,Spain,Male,7,54883,113756.60156948461,2,0,0,1\n",
      "90101,65465,451,qzacigh,76,Spain,Female,6,383216,195268.96287526833,4,1,1,0\n",
      "15348,64136,735,rephz,25,Germany,Male,1,314949,202845.85085269765,1,0,0,0\n",
      "92817,29986,674,jdp,92,Spain,Female,1,82839,82993.9868256202,2,0,0,1\n",
      "86493,93273,597,nue,76,Germany,Male,7,233636,42736.33556473997,5,1,1,1\n",
      "76012,90233,696,slvhsj,71,Spain,Male,4,32460,33368.25227253607,3,1,1,1\n",
      "15537,51793,539,jni,60,Germany,Female,8,344126,105540.29024632834,0,1,1,1\n",
      "24011,42983,465,vwhk,30,Germany,Female,5,302994,215475.56555516817,1,1,0,0\n",
      "48136,97116,652,uyop,40,Spain,Male,0,180091,239525.04920252247,1,0,1,1\n",
      "21692,31679,802,ybcrra,41,Germany,Female,5,404983,200220.1786100886,0,1,1,1\n",
      "62462,10838,778,mjk,62,Germany,Female,1,348618,67146.65931827237,3,1,1,1\n",
      "29423,23100,713,ceor,40,Germany,Male,9,457922,179524.7507275942,2,0,1,1\n",
      "71238,81508,669,xpfvamrbkr,75,Spain,Male,7,218661,85818.26386792546,2,0,1,1\n",
      "49747,85325,621,gjxaqcbk,24,Spain,Female,2,255425,78020.07407555229,4,0,0,0\n",
      "42188,63149,685,fgkhker,57,Spain,Female,8,460934,38749.01128395379,1,1,0,1\n",
      "71161,20606,526,zfepxz,89,Germany,Female,7,267994,137544.35442304774,5,1,0,0\n",
      "11500,99225,515,gwqaxewzv,18,Germany,Female,2,156140,82779.43710835597,5,1,0,0\n",
      "15355,54030,365,wlllbu,80,Spain,Male,1,423980,716.6593005296572,5,1,1,0\n",
      "51087,95626,612,kjylfdkd,79,Spain,Female,10,40442,214219.8469763222,5,1,1,1\n",
      "87748,30484,742,yal,18,France,Female,1,49689,227525.38902959658,0,1,0,1\n",
      "35592,57985,460,qpthyl,42,Germany,Female,1,82395,115673.25665969074,0,0,0,1\n",
      "54791,61681,678,iwbjxnnjm,89,France,Female,2,40021,237763.77561370257,0,1,0,0\n",
      "69658,63042,444,lyva,91,Spain,Female,10,12374,86108.4247717287,0,1,1,1\n",
      "26992,48342,556,lffsfi,89,France,Male,9,164268,92881.09492883203,5,0,0,0\n",
      "20185,66237,532,jjxnskwqih,20,France,Male,7,355817,234959.22697879412,2,0,0,1\n",
      "35379,63645,376,lof,52,Spain,Male,5,97884,138440.85782274944,2,1,1,1\n",
      "31176,35189,440,eerniryud,40,Germany,Female,7,277561,103911.65472912336,1,1,1,0\n",
      "77410,47780,545,ebdxjgzr,42,France,Female,6,413799,161241.86889084682,2,0,1,1\n",
      "10570,11989,487,ueft,36,France,Female,4,2677,86229.3423606631,3,1,0,0\n",
      "96569,79441,628,lxckd,69,Spain,Female,3,426585,134215.12066542308,3,1,1,0\n",
      "45286,81168,602,quraqlad,80,France,Male,4,284433,244495.26769880194,2,1,0,0\n",
      "97880,89022,736,hyq,66,France,Male,5,411503,240039.4557809883,3,1,1,0\n",
      "32818,55294,545,ahzfyft,51,Spain,Male,9,135359,247560.72994305272,0,1,1,0\n",
      "23219,49091,482,ujzlo,32,France,Male,9,77590,96574.77951021724,5,0,0,1\n",
      "72322,44548,485,pqtn,18,Spain,Female,5,132549,131547.07298306955,2,0,1,1\n",
      "33571,37412,667,zaebrcok,18,Germany,Male,1,9565,132416.13121015904,3,1,1,0\n",
      "78498,40271,791,jmlaces,31,Germany,Female,0,113036,145585.75850540175,0,1,0,1\n",
      "86020,70178,757,bahx,44,France,Male,9,491100,236977.6960464161,5,0,1,1\n",
      "53490,18106,464,rzvpbgjyj,81,Germany,Male,4,464161,73598.05929685233,1,0,0,1\n",
      "75084,16207,783,uvedxiq,67,Spain,Male,1,66622,35128.41833128957,5,1,1,0\n",
      "43644,53253,420,sbdy,59,Germany,Female,6,339431,124553.70398240551,0,0,1,0\n",
      "90585,46355,363,iswsc,58,France,Male,9,39889,217012.1847542809,4,1,0,0\n",
      "19139,89134,570,rthywzifko,59,Germany,Male,9,152961,221995.25029030762,2,1,0,0\n",
      "48288,57131,497,gfjlzicahk,31,France,Female,4,376555,240376.0517670619,4,1,0,1\n",
      "13770,70368,824,avqhrvbp,33,Spain,Female,5,16705,37298.830455057505,1,0,1,0\n",
      "52964,68618,810,svwwjvckcs,30,Germany,Male,2,295396,217312.3471518837,4,1,0,1\n",
      "12828,32059,577,rtwnzjfa,26,Spain,Female,7,147869,36606.95728300299,0,1,1,0\n",
      "68490,33156,643,imilrjrsuu,55,Germany,Female,3,69454,157251.27355506536,0,1,0,1\n",
      "54893,28405,594,qoqkjas,44,Germany,Male,7,83524,230532.63597987912,2,0,1,0\n",
      "19191,37126,799,teexod,32,France,Male,5,142604,118019.84661214,4,0,0,1\n",
      "48538,90047,596,wvzt,49,Germany,Female,0,233537,77866.0174632538,3,1,0,0\n",
      "54013,36866,431,ajgwyfxo,53,France,Female,10,488474,77735.16562559907,1,0,1,1\n",
      "54370,18646,733,ugqsyd,46,Germany,Female,6,48916,125451.12091628529,2,0,0,1\n",
      "32676,94137,616,xhroo,20,France,Male,6,484987,141995.93223632302,3,1,0,0\n",
      "38687,57100,834,laaimocyih,85,Germany,Female,6,65939,129710.33456123379,0,0,1,0\n",
      "64765,80152,705,zahghphgyx,76,France,Male,4,65931,96479.55011568982,3,1,0,0\n",
      "51707,82660,354,nfwstdn,20,Spain,Male,9,260554,135184.29932246066,0,1,1,0\n",
      "77851,65822,526,jzakonbu,70,Germany,Male,9,474389,17489.303297426228,4,1,1,0\n",
      "93984,39176,702,dcstumehlu,24,Germany,Male,0,240652,207119.74924933465,0,0,1,0\n",
      "68767,76857,444,ycyyh,36,Germany,Female,6,31167,106534.27597963793,4,1,0,1\n",
      "37691,29749,732,jxfh,92,Germany,Male,10,443348,65546.2617994521,1,1,1,0\n",
      "72748,41601,479,oauueaz,74,France,Female,3,179332,104763.58477591777,0,0,0,0\n",
      "98511,26071,661,fphn,33,France,Male,1,107383,207451.67639857013,0,0,0,1\n",
      "28935,59651,435,gxqixf,66,France,Male,4,493042,104475.68839496291,2,0,1,1\n",
      "54038,69011,795,usaoqfdvd,51,Spain,Male,7,109206,181425.49074898788,1,0,1,1\n",
      "89939,14888,719,fumh,41,France,Male,9,2570,61665.08705965806,1,0,0,0\n",
      "57993,53969,610,xnxgnv,21,France,Female,1,462980,181914.7634005377,5,1,1,0\n",
      "75844,61421,644,yhbroefcuf,23,Germany,Female,0,417370,237167.82333161106,5,0,0,1\n",
      "81546,51523,364,biuanaau,49,Germany,Female,10,467218,122425.58754295635,2,1,1,0\n",
      "97154,27067,376,lubxglwz,21,Spain,Female,1,391837,167178.9660208888,1,0,0,0\n",
      "10340,57737,601,fjkprv,21,France,Female,6,293272,156337.71386548798,2,1,0,1\n",
      "13871,60486,437,aow,49,Germany,Female,9,481837,79378.61032502915,5,1,1,0\n",
      "17966,46227,422,snqpn,72,Spain,Female,9,15835,2899.854749074574,3,0,0,1\n",
      "84881,82964,614,qggumcdzk,68,France,Female,0,264089,174914.3507828543,4,1,0,1\n",
      "47121,96571,556,pvce,76,France,Female,8,384300,209584.66265524444,2,1,0,1\n",
      "65698,58814,518,coiurh,89,Spain,Male,5,192769,54912.184063757806,0,0,0,0\n",
      "48049,15784,805,noniouy,29,France,Female,4,345474,242809.11441592235,2,0,1,1\n",
      "82815,16018,624,ujhn,72,Germany,Male,1,4156,231234.8520921657,2,1,1,1\n",
      "77288,35401,424,zriyq,24,Spain,Female,6,231456,38111.852743183925,3,1,0,0\n",
      "80427,41049,543,vezekt,76,France,Male,7,194182,179646.48588151208,2,1,0,1\n",
      "12457,13110,381,gvtmz,19,France,Male,9,38136,139954.39818889846,2,0,0,0\n",
      "13782,44316,547,ibcmuc,85,Germany,Female,10,398799,225813.06983037796,3,1,1,1\n",
      "74208,11502,452,ndwzwxp,82,Spain,Female,10,110980,217090.05335352337,5,1,1,0\n",
      "20327,78984,621,wvar,24,Spain,Female,0,408933,157134.20523596022,2,0,1,1\n",
      "30616,89520,550,tmqotpreru,83,Germany,Male,9,149103,188404.23519774416,1,1,1,1\n",
      "37790,31273,749,hvpsw,71,Germany,Female,6,373146,243832.21913892525,5,0,1,1\n",
      "89255,50030,645,qrgwatoo,57,Spain,Male,2,267471,95473.69232860646,0,1,0,1\n",
      "93795,84663,716,zbpddm,60,Germany,Female,1,406451,113066.2211494129,3,1,1,0\n",
      "98509,36047,758,shgganskn,57,Spain,Male,7,484982,81789.04725278815,1,0,1,0\n",
      "61762,33828,607,wcddbpqjh,51,Germany,Female,5,287182,179118.29318108622,3,1,0,0\n"
     ]
    }
   ],
   "source": [
    "import random\n",
    "\n",
    "# Function to generate a random gender\n",
    "def generate_gender():\n",
    "    return random.choice(['Male', 'Female'])\n",
    "\n",
    "# Function to generate a random country\n",
    "def generate_country():\n",
    "    return random.choice(['France', 'Germany', 'Spain'])\n",
    "\n",
    "# Generate 100 random rows\n",
    "random_data = []\n",
    "for _ in range(100):\n",
    "    row = [\n",
    "        random.randint(10000, 99999),              # Customer ID\n",
    "        random.randint(10000, 99999),              # Customer ID\n",
    "        random.randint(350, 850),        # Credit Score\n",
    "        ''.join(random.choices('abcdefghijklmnopqrstuvwxyz', k=random.randint(3, 10))),  # Last Name\n",
    "        random.randint(18, 92),                  # Age\n",
    "        generate_country(),                        # Country\n",
    "        generate_gender(),                         # Gender\n",
    "        random.randint(0, 10),                    # Tenure\n",
    "        random.randint(0, 500000),                     # Balance\n",
    "        random.uniform(1, 250000),                 # Estimated Salary\n",
    "        random.randint(0, 5),                      # Num of Products\n",
    "        random.randint(0, 1),                      # Has Credit Card\n",
    "        random.randint(0, 1),                      # Is Active Member\n",
    "        random.randint(0, 1)\n",
    "    ]\n",
    "    random_data.append(','.join(map(str, row)))\n",
    "\n",
    "# Print the generated random data\n",
    "for row in random_data:\n",
    "    print(row)\n"
   ],
   "metadata": {
    "collapsed": false,
    "ExecuteTime": {
     "end_time": "2024-03-12T00:37:13.247397Z",
     "start_time": "2024-03-12T00:37:13.229152Z"
    }
   },
   "id": "6583076c50c2e8c5",
   "execution_count": 40
  },
  {
   "cell_type": "code",
   "outputs": [],
   "source": [],
   "metadata": {
    "collapsed": false
   },
   "id": "8946e28944b462b7"
  }
 ],
 "metadata": {
  "kernelspec": {
   "display_name": "Python 3",
   "language": "python",
   "name": "python3"
  },
  "language_info": {
   "codemirror_mode": {
    "name": "ipython",
    "version": 2
   },
   "file_extension": ".py",
   "mimetype": "text/x-python",
   "name": "python",
   "nbconvert_exporter": "python",
   "pygments_lexer": "ipython2",
   "version": "2.7.6"
  }
 },
 "nbformat": 4,
 "nbformat_minor": 5
}
